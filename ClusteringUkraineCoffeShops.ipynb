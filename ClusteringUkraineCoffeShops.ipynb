{
  "nbformat": 4,
  "nbformat_minor": 0,
  "metadata": {
    "colab": {
      "name": "ClusteringUkraineCoffeShops.ipynb",
      "provenance": [],
      "collapsed_sections": [
        "BW_IOfBq7AHp",
        "lrQKZTUv7AH2",
        "qLD5ASyP7AH2",
        "nXYJFLhz7AH2",
        "rW37aGPh7AH2",
        "mIxJlbiX7AH3",
        "2IYChVHO7AH3",
        "CjUzAYrw7AH4",
        "7hk-NXPE7AH4",
        "_F7-f7UU7AH4"
      ]
    },
    "kernelspec": {
      "display_name": "Python 3 (ipykernel)",
      "language": "python",
      "name": "python3"
    },
    "language_info": {
      "codemirror_mode": {
        "name": "ipython",
        "version": 3
      },
      "file_extension": ".py",
      "mimetype": "text/x-python",
      "name": "python",
      "nbconvert_exporter": "python",
      "pygments_lexer": "ipython3",
      "version": "3.8.10"
    }
  },
  "cells": [
    {
      "cell_type": "markdown",
      "metadata": {
        "id": "bA5ajAmk7XH6"
      },
      "source": [
        "# Clustering Coffe Shops in Ukraine\n",
        "Data can be found in :\n",
        "https://www.kaggle.com/dimitryzub/10-coffee-places-from-ukrainian-cities\n",
        "\n",
        "This was my final project for Data Scientist Certification"
      ]
    },
    {
      "cell_type": "code",
      "metadata": {
        "scrolled": true,
        "id": "hbLcfbiS7AHk"
      },
      "source": [
        "import numpy as np\n",
        "import seaborn as sns\n",
        "import pandas as pd\n",
        "import matplotlib.pyplot as plt\n",
        "from sklearn.impute import KNNImputer\n",
        "from sklearn.preprocessing import LabelEncoder\n",
        "from sklearn.cluster import KMeans\n",
        "from sklearn.metrics import silhouette_score\n",
        "sns.set(rc={'figure.figsize':(11.7,8.27)})"
      ],
      "execution_count": 1,
      "outputs": []
    },
    {
      "cell_type": "code",
      "metadata": {
        "id": "9uOUfe5T7AHm"
      },
      "source": [
        "df = pd.read_csv(\"./Ukraine Cities Coffee Shops Analysis - Main.csv\")"
      ],
      "execution_count": 2,
      "outputs": []
    },
    {
      "cell_type": "markdown",
      "metadata": {
        "id": "h8WBIi0s7AHm"
      },
      "source": [
        "# EDA"
      ]
    },
    {
      "cell_type": "code",
      "metadata": {
        "colab": {
          "base_uri": "https://localhost:8080/",
          "height": 202
        },
        "id": "7mZRVli-7AHn",
        "outputId": "291bb6d7-3109-4ee3-b4c4-62fada5b3ed7"
      },
      "source": [
        "df.head()"
      ],
      "execution_count": 3,
      "outputs": [
        {
          "output_type": "execute_result",
          "data": {
            "text/html": [
              "<div>\n",
              "<style scoped>\n",
              "    .dataframe tbody tr th:only-of-type {\n",
              "        vertical-align: middle;\n",
              "    }\n",
              "\n",
              "    .dataframe tbody tr th {\n",
              "        vertical-align: top;\n",
              "    }\n",
              "\n",
              "    .dataframe thead th {\n",
              "        text-align: right;\n",
              "    }\n",
              "</style>\n",
              "<table border=\"1\" class=\"dataframe\">\n",
              "  <thead>\n",
              "    <tr style=\"text-align: right;\">\n",
              "      <th></th>\n",
              "      <th>Region</th>\n",
              "      <th>Place name</th>\n",
              "      <th>Place type</th>\n",
              "      <th>Rating</th>\n",
              "      <th>Reviews</th>\n",
              "      <th>Price</th>\n",
              "      <th>Delivery option</th>\n",
              "      <th>Dine in option</th>\n",
              "      <th>Takeout option</th>\n",
              "    </tr>\n",
              "  </thead>\n",
              "  <tbody>\n",
              "    <tr>\n",
              "      <th>0</th>\n",
              "      <td>Mariupol</td>\n",
              "      <td>Dim Kavu</td>\n",
              "      <td>Coffee store</td>\n",
              "      <td>4.6</td>\n",
              "      <td>206.0</td>\n",
              "      <td>NaN</td>\n",
              "      <td>NaN</td>\n",
              "      <td>NaN</td>\n",
              "      <td>NaN</td>\n",
              "    </tr>\n",
              "    <tr>\n",
              "      <th>1</th>\n",
              "      <td>Mariupol</td>\n",
              "      <td>Коферум</td>\n",
              "      <td>Cafe</td>\n",
              "      <td>5.0</td>\n",
              "      <td>24.0</td>\n",
              "      <td>$$</td>\n",
              "      <td>False</td>\n",
              "      <td>NaN</td>\n",
              "      <td>True</td>\n",
              "    </tr>\n",
              "    <tr>\n",
              "      <th>2</th>\n",
              "      <td>Mariupol</td>\n",
              "      <td>Кофейня Світ Чаю</td>\n",
              "      <td>Coffee shop</td>\n",
              "      <td>5.0</td>\n",
              "      <td>11.0</td>\n",
              "      <td>NaN</td>\n",
              "      <td>NaN</td>\n",
              "      <td>NaN</td>\n",
              "      <td>True</td>\n",
              "    </tr>\n",
              "    <tr>\n",
              "      <th>3</th>\n",
              "      <td>Mariupol</td>\n",
              "      <td>Кофейня Starcoff</td>\n",
              "      <td>Coffee shop</td>\n",
              "      <td>4.4</td>\n",
              "      <td>331.0</td>\n",
              "      <td>$$</td>\n",
              "      <td>False</td>\n",
              "      <td>True</td>\n",
              "      <td>True</td>\n",
              "    </tr>\n",
              "    <tr>\n",
              "      <th>4</th>\n",
              "      <td>Mariupol</td>\n",
              "      <td>Кофейня \"Friend Zone\"</td>\n",
              "      <td>Coffee shop</td>\n",
              "      <td>5.0</td>\n",
              "      <td>12.0</td>\n",
              "      <td>NaN</td>\n",
              "      <td>NaN</td>\n",
              "      <td>True</td>\n",
              "      <td>True</td>\n",
              "    </tr>\n",
              "  </tbody>\n",
              "</table>\n",
              "</div>"
            ],
            "text/plain": [
              "     Region             Place name  ... Dine in option  Takeout option\n",
              "0  Mariupol               Dim Kavu  ...            NaN             NaN\n",
              "1  Mariupol                Коферум  ...            NaN            True\n",
              "2  Mariupol       Кофейня Світ Чаю  ...            NaN            True\n",
              "3  Mariupol       Кофейня Starcoff  ...           True            True\n",
              "4  Mariupol  Кофейня \"Friend Zone\"  ...           True            True\n",
              "\n",
              "[5 rows x 9 columns]"
            ]
          },
          "metadata": {},
          "execution_count": 3
        }
      ]
    },
    {
      "cell_type": "code",
      "metadata": {
        "colab": {
          "base_uri": "https://localhost:8080/"
        },
        "id": "TCmN0Q6d7AHo",
        "outputId": "57ec34b8-4508-416f-e3af-169b158d3044"
      },
      "source": [
        "df.info()"
      ],
      "execution_count": 4,
      "outputs": [
        {
          "output_type": "stream",
          "name": "stdout",
          "text": [
            "<class 'pandas.core.frame.DataFrame'>\n",
            "RangeIndex: 200 entries, 0 to 199\n",
            "Data columns (total 9 columns):\n",
            " #   Column           Non-Null Count  Dtype  \n",
            "---  ------           --------------  -----  \n",
            " 0   Region           200 non-null    object \n",
            " 1   Place name       200 non-null    object \n",
            " 2   Place type       200 non-null    object \n",
            " 3   Rating           198 non-null    float64\n",
            " 4   Reviews          198 non-null    float64\n",
            " 5   Price            122 non-null    object \n",
            " 6   Delivery option  129 non-null    object \n",
            " 7   Dine in option   140 non-null    object \n",
            " 8   Takeout option   144 non-null    object \n",
            "dtypes: float64(2), object(7)\n",
            "memory usage: 14.2+ KB\n"
          ]
        }
      ]
    },
    {
      "cell_type": "code",
      "metadata": {
        "colab": {
          "base_uri": "https://localhost:8080/"
        },
        "id": "kS1_K_t07AHo",
        "outputId": "3c92af26-30b4-48b5-e4f4-c0e2ce00cc7e"
      },
      "source": [
        "df.isnull().sum() #Check for null value, there are a lot of null value so we will Clean the data"
      ],
      "execution_count": 5,
      "outputs": [
        {
          "output_type": "execute_result",
          "data": {
            "text/plain": [
              "Region              0\n",
              "Place name          0\n",
              "Place type          0\n",
              "Rating              2\n",
              "Reviews             2\n",
              "Price              78\n",
              "Delivery option    71\n",
              "Dine in option     60\n",
              "Takeout option     56\n",
              "dtype: int64"
            ]
          },
          "metadata": {},
          "execution_count": 5
        }
      ]
    },
    {
      "cell_type": "markdown",
      "metadata": {
        "id": "BW_IOfBq7AHp"
      },
      "source": [
        "# Data Cleaning"
      ]
    },
    {
      "cell_type": "markdown",
      "metadata": {
        "id": "pDLy3N017AHp"
      },
      "source": [
        "## Boxplot (Ratings and Reviews)\n",
        "There is no Null Value but we will be checking for outliers"
      ]
    },
    {
      "cell_type": "code",
      "metadata": {
        "colab": {
          "base_uri": "https://localhost:8080/",
          "height": 0
        },
        "id": "PhSDQFm67AHq",
        "outputId": "c5eeabf7-54a5-49e3-e11e-72b945fd9a34"
      },
      "source": [
        "sns.boxplot(df.Rating).set(title = 'BoxPlot of Ratings')"
      ],
      "execution_count": 6,
      "outputs": [
        {
          "output_type": "stream",
          "name": "stderr",
          "text": [
            "/usr/local/lib/python3.7/dist-packages/seaborn/_decorators.py:43: FutureWarning: Pass the following variable as a keyword arg: x. From version 0.12, the only valid positional argument will be `data`, and passing other arguments without an explicit keyword will result in an error or misinterpretation.\n",
            "  FutureWarning\n"
          ]
        },
        {
          "output_type": "execute_result",
          "data": {
            "text/plain": [
              "[Text(0.5, 1.0, 'BoxPlot of Ratings')]"
            ]
          },
          "metadata": {},
          "execution_count": 6
        },
        {
          "output_type": "display_data",
          "data": {
            "image/png": "[encoded data removed]",
            "text/plain": [
              "<Figure size 432x288 with 1 Axes>"
            ]
          },
          "metadata": {
            "needs_background": "light"
          }
        }
      ]
    },
    {
      "cell_type": "code",
      "metadata": {
        "colab": {
          "base_uri": "https://localhost:8080/",
          "height": 0
        },
        "id": "AnejeJst7AHr",
        "outputId": "9c7d247c-98aa-4eef-d6f8-22efc807fd9d"
      },
      "source": [
        "sns.boxplot(df.Reviews).set(title = 'BoxPlot of Reviews')"
      ],
      "execution_count": 7,
      "outputs": [
        {
          "output_type": "stream",
          "name": "stderr",
          "text": [
            "/usr/local/lib/python3.7/dist-packages/seaborn/_decorators.py:43: FutureWarning: Pass the following variable as a keyword arg: x. From version 0.12, the only valid positional argument will be `data`, and passing other arguments without an explicit keyword will result in an error or misinterpretation.\n",
            "  FutureWarning\n"
          ]
        },
        {
          "output_type": "execute_result",
          "data": {
            "text/plain": [
              "[Text(0.5, 1.0, 'BoxPlot of Reviews')]"
            ]
          },
          "metadata": {},
          "execution_count": 7
        },
        {
          "output_type": "display_data",
          "data": {
            "image/png": "[encoded data removed]",
            "text/plain": [
              "<Figure size 432x288 with 1 Axes>"
            ]
          },
          "metadata": {
            "needs_background": "light"
          }
        }
      ]
    },
    {
      "cell_type": "code",
      "metadata": {
        "id": "u5LlNDDk7AHr"
      },
      "source": [
        "df.drop(df.Reviews.idxmax() ,inplace = True)"
      ],
      "execution_count": 8,
      "outputs": []
    },
    {
      "cell_type": "markdown",
      "metadata": {
        "id": "2pVmGOSI7AHr"
      },
      "source": [
        "Based on the Boxplots Above both of them have outliers,\n",
        "but i wont remove the outliers on the ratings column because this is an small dataset and the outliers is still logical\n",
        "and on the review columns i will only remove the outtest outliers because it's not logical and most likely to be wrong input / irrelevant to the rest of dataset"
      ]
    },
    {
      "cell_type": "markdown",
      "metadata": {
        "id": "x4OroiW67AHs"
      },
      "source": [
        "# Check for NULL Value in Rating"
      ]
    },
    {
      "cell_type": "code",
      "metadata": {
        "colab": {
          "base_uri": "https://localhost:8080/",
          "height": 110
        },
        "id": "4uPmi04D7AHs",
        "outputId": "89ec4834-27cb-43bd-dec0-92cbf045c2b9"
      },
      "source": [
        "df.loc[df['Rating'].isnull()]"
      ],
      "execution_count": 9,
      "outputs": [
        {
          "output_type": "execute_result",
          "data": {
            "text/html": [
              "<div>\n",
              "<style scoped>\n",
              "    .dataframe tbody tr th:only-of-type {\n",
              "        vertical-align: middle;\n",
              "    }\n",
              "\n",
              "    .dataframe tbody tr th {\n",
              "        vertical-align: top;\n",
              "    }\n",
              "\n",
              "    .dataframe thead th {\n",
              "        text-align: right;\n",
              "    }\n",
              "</style>\n",
              "<table border=\"1\" class=\"dataframe\">\n",
              "  <thead>\n",
              "    <tr style=\"text-align: right;\">\n",
              "      <th></th>\n",
              "      <th>Region</th>\n",
              "      <th>Place name</th>\n",
              "      <th>Place type</th>\n",
              "      <th>Rating</th>\n",
              "      <th>Reviews</th>\n",
              "      <th>Price</th>\n",
              "      <th>Delivery option</th>\n",
              "      <th>Dine in option</th>\n",
              "      <th>Takeout option</th>\n",
              "    </tr>\n",
              "  </thead>\n",
              "  <tbody>\n",
              "    <tr>\n",
              "      <th>49</th>\n",
              "      <td>Kherson</td>\n",
              "      <td>Кофе В Херсоне</td>\n",
              "      <td>Cafe</td>\n",
              "      <td>NaN</td>\n",
              "      <td>NaN</td>\n",
              "      <td>NaN</td>\n",
              "      <td>False</td>\n",
              "      <td>NaN</td>\n",
              "      <td>NaN</td>\n",
              "    </tr>\n",
              "    <tr>\n",
              "      <th>186</th>\n",
              "      <td>Dnipro</td>\n",
              "      <td>Coffee&amp;Cake, Game zone PS4</td>\n",
              "      <td>Coffee shop</td>\n",
              "      <td>NaN</td>\n",
              "      <td>NaN</td>\n",
              "      <td>NaN</td>\n",
              "      <td>NaN</td>\n",
              "      <td>NaN</td>\n",
              "      <td>NaN</td>\n",
              "    </tr>\n",
              "  </tbody>\n",
              "</table>\n",
              "</div>"
            ],
            "text/plain": [
              "      Region                  Place name  ... Dine in option  Takeout option\n",
              "49   Kherson              Кофе В Херсоне  ...            NaN             NaN\n",
              "186   Dnipro  Coffee&Cake, Game zone PS4  ...            NaN             NaN\n",
              "\n",
              "[2 rows x 9 columns]"
            ]
          },
          "metadata": {},
          "execution_count": 9
        }
      ]
    },
    {
      "cell_type": "code",
      "metadata": {
        "id": "Bh6XM6c17AHs"
      },
      "source": [
        "df.dropna(subset = ['Rating'], inplace = True)"
      ],
      "execution_count": 10,
      "outputs": []
    },
    {
      "cell_type": "markdown",
      "metadata": {
        "id": "kNrYOjFd7AHt"
      },
      "source": [
        "Based on the table above we can see that those 2 rows contains a lot of missing information, so we will drop them"
      ]
    },
    {
      "cell_type": "markdown",
      "metadata": {
        "id": "3bOsxlb_7AHt"
      },
      "source": [
        "# Check for Unique Value in Dine in option and Takeout option"
      ]
    },
    {
      "cell_type": "code",
      "metadata": {
        "colab": {
          "base_uri": "https://localhost:8080/"
        },
        "id": "of9y_1xs7AHt",
        "outputId": "8f3eab80-23d9-4042-b474-0356a7c1ab26"
      },
      "source": [
        "df['Dine in option'].unique()"
      ],
      "execution_count": 11,
      "outputs": [
        {
          "output_type": "execute_result",
          "data": {
            "text/plain": [
              "array([nan, True], dtype=object)"
            ]
          },
          "metadata": {},
          "execution_count": 11
        }
      ]
    },
    {
      "cell_type": "code",
      "metadata": {
        "colab": {
          "base_uri": "https://localhost:8080/"
        },
        "id": "5QxbmVxp7AHt",
        "outputId": "59b629cf-fcd5-4fb6-886c-d2e0bc717dcd"
      },
      "source": [
        "df['Takeout option'].unique()"
      ],
      "execution_count": 12,
      "outputs": [
        {
          "output_type": "execute_result",
          "data": {
            "text/plain": [
              "array([nan, True], dtype=object)"
            ]
          },
          "metadata": {},
          "execution_count": 12
        }
      ]
    },
    {
      "cell_type": "code",
      "metadata": {
        "id": "RCoHu-oO7AHu"
      },
      "source": [
        "df['Dine in option'].fillna(False, inplace = True)\n",
        "df['Takeout option'].fillna(False, inplace = True)"
      ],
      "execution_count": 13,
      "outputs": []
    },
    {
      "cell_type": "markdown",
      "metadata": {
        "id": "mHdg2VLO7AHu"
      },
      "source": [
        "On the data Description nan means False, so i will replace nan to False"
      ]
    },
    {
      "cell_type": "markdown",
      "metadata": {
        "id": "h4h_ZfT77AHu"
      },
      "source": [
        "# Price and Delivery Options"
      ]
    },
    {
      "cell_type": "code",
      "metadata": {
        "colab": {
          "base_uri": "https://localhost:8080/"
        },
        "id": "jQgB_aLV7AHv",
        "outputId": "01ee33d8-e7b5-4d0b-99f8-af6325582605"
      },
      "source": [
        "df['Price'].unique()"
      ],
      "execution_count": 14,
      "outputs": [
        {
          "output_type": "execute_result",
          "data": {
            "text/plain": [
              "array([nan, '$$', '$', '$$$'], dtype=object)"
            ]
          },
          "metadata": {},
          "execution_count": 14
        }
      ]
    },
    {
      "cell_type": "code",
      "metadata": {
        "id": "QAQ1B8Us7AHv"
      },
      "source": [
        "df.Price = df.Price.str.replace('$','s') # Replace $ to s for visualization purposes"
      ],
      "execution_count": 15,
      "outputs": []
    },
    {
      "cell_type": "code",
      "metadata": {
        "colab": {
          "base_uri": "https://localhost:8080/",
          "height": 371
        },
        "id": "Xu1pWkIF7AHv",
        "outputId": "e3d57e64-595d-413b-ce38-f383531adf13"
      },
      "source": [
        "sns.countplot(df['Price']).set(title = 'Count of Each element in Price')"
      ],
      "execution_count": 16,
      "outputs": [
        {
          "output_type": "stream",
          "name": "stderr",
          "text": [
            "/usr/local/lib/python3.7/dist-packages/seaborn/_decorators.py:43: FutureWarning: Pass the following variable as a keyword arg: x. From version 0.12, the only valid positional argument will be `data`, and passing other arguments without an explicit keyword will result in an error or misinterpretation.\n",
            "  FutureWarning\n"
          ]
        },
        {
          "output_type": "execute_result",
          "data": {
            "text/plain": [
              "[Text(0.5, 1.0, 'Count of Each element in Price')]"
            ]
          },
          "metadata": {},
          "execution_count": 16
        },
        {
          "output_type": "display_data",
          "data": {
            "image/png": "[encoded data removed]",
            "text/plain": [
              "<Figure size 432x288 with 1 Axes>"
            ]
          },
          "metadata": {
            "needs_background": "light"
          }
        }
      ]
    },
    {
      "cell_type": "code",
      "metadata": {
        "colab": {
          "base_uri": "https://localhost:8080/"
        },
        "id": "Urb0QxlF7AHv",
        "outputId": "4ef40145-9980-4001-dbf3-22445f6c5d58"
      },
      "source": [
        "df['Delivery option'].unique()"
      ],
      "execution_count": 17,
      "outputs": [
        {
          "output_type": "execute_result",
          "data": {
            "text/plain": [
              "array([nan, False, True], dtype=object)"
            ]
          },
          "metadata": {},
          "execution_count": 17
        }
      ]
    },
    {
      "cell_type": "code",
      "metadata": {
        "colab": {
          "base_uri": "https://localhost:8080/",
          "height": 371
        },
        "id": "9H-UAunk7AHw",
        "outputId": "a29237db-c3e5-4ad5-e1e6-eda196a3648a"
      },
      "source": [
        "sns.countplot(df['Delivery option']).set(title = 'Count of Each element in Delivery option')"
      ],
      "execution_count": 18,
      "outputs": [
        {
          "output_type": "stream",
          "name": "stderr",
          "text": [
            "/usr/local/lib/python3.7/dist-packages/seaborn/_decorators.py:43: FutureWarning: Pass the following variable as a keyword arg: x. From version 0.12, the only valid positional argument will be `data`, and passing other arguments without an explicit keyword will result in an error or misinterpretation.\n",
            "  FutureWarning\n"
          ]
        },
        {
          "output_type": "execute_result",
          "data": {
            "text/plain": [
              "[Text(0.5, 1.0, 'Count of Each element in Delivery option')]"
            ]
          },
          "metadata": {},
          "execution_count": 18
        },
        {
          "output_type": "display_data",
          "data": {
            "image/png": "[encoded data removed]",
            "text/plain": [
              "<Figure size 432x288 with 1 Axes>"
            ]
          },
          "metadata": {
            "needs_background": "light"
          }
        }
      ]
    },
    {
      "cell_type": "markdown",
      "metadata": {
        "id": "3kLaQdb17AHw"
      },
      "source": [
        "As we can see on the countplot that the data is imbalance, and there is nan value in those columns so if we impute using mode, there will be more data imbalance, therefore i will use KNN to impute the missing data"
      ]
    },
    {
      "cell_type": "code",
      "metadata": {
        "id": "5qH6uVM77AHw"
      },
      "source": [
        "df.drop(columns = ['Place name'], inplace = True, axis = 0) # Place name doesn't contain relevant information for clustering"
      ],
      "execution_count": 19,
      "outputs": []
    },
    {
      "cell_type": "markdown",
      "metadata": {
        "tags": [],
        "id": "0wsvGPRW7AHw"
      },
      "source": [
        "# Data Analysis"
      ]
    },
    {
      "cell_type": "code",
      "metadata": {
        "colab": {
          "base_uri": "https://localhost:8080/"
        },
        "id": "gLqHHqrc7AHx",
        "outputId": "89f35835-01cc-435d-863b-e3a9c163a390"
      },
      "source": [
        "np.sort(df['Region'].unique())"
      ],
      "execution_count": 20,
      "outputs": [
        {
          "output_type": "execute_result",
          "data": {
            "text/plain": [
              "array(['Dnipro', 'Kharkiv', 'Kherson', 'Khrivoy Rog', 'Kiev', 'Lviv',\n",
              "       'Mariupol', 'Odessa', 'Poltava', 'Zaporozhye'], dtype=object)"
            ]
          },
          "metadata": {},
          "execution_count": 20
        }
      ]
    },
    {
      "cell_type": "code",
      "metadata": {
        "colab": {
          "base_uri": "https://localhost:8080/",
          "height": 351
        },
        "id": "xVxE4ZsB7AHx",
        "outputId": "1c4aa37f-837b-413b-a76a-ec5ff970abd2"
      },
      "source": [
        "sns.barplot(x = np.sort(df['Region'].unique()), y = np.array(df.groupby('Region').mean()['Rating'])).set(title = 'Average Rating of each region', xlabel = 'Region', ylabel = 'Average Rating')"
      ],
      "execution_count": 21,
      "outputs": [
        {
          "output_type": "execute_result",
          "data": {
            "text/plain": [
              "[Text(0, 0.5, 'Average Rating'),\n",
              " Text(0.5, 0, 'Region'),\n",
              " Text(0.5, 1.0, 'Average Rating of each region')]"
            ]
          },
          "metadata": {},
          "execution_count": 21
        },
        {
          "output_type": "display_data",
          "data": {
            "image/png": "[encoded data removed]",
            "text/plain": [
              "<Figure size 432x288 with 1 Axes>"
            ]
          },
          "metadata": {
            "needs_background": "light"
          }
        }
      ]
    },
    {
      "cell_type": "code",
      "metadata": {
        "colab": {
          "base_uri": "https://localhost:8080/"
        },
        "id": "iRL4NINS7AHx",
        "outputId": "a1e2febf-e29c-4fc7-d59e-90a3b8c033ef"
      },
      "source": [
        "df.groupby('Region').mean()['Rating'].sort_values(ascending = False)"
      ],
      "execution_count": 22,
      "outputs": [
        {
          "output_type": "execute_result",
          "data": {
            "text/plain": [
              "Region\n",
              "Odessa         4.785000\n",
              "Kiev           4.785000\n",
              "Mariupol       4.700000\n",
              "Zaporozhye     4.670000\n",
              "Lviv           4.668421\n",
              "Poltava        4.655000\n",
              "Kherson        4.642105\n",
              "Khrivoy Rog    4.600000\n",
              "Kharkiv        4.575000\n",
              "Dnipro         4.547368\n",
              "Name: Rating, dtype: float64"
            ]
          },
          "metadata": {},
          "execution_count": 22
        }
      ]
    },
    {
      "cell_type": "code",
      "metadata": {
        "colab": {
          "base_uri": "https://localhost:8080/",
          "height": 351
        },
        "id": "6Pb7V04L7AHx",
        "outputId": "d00e30ce-7782-480e-b140-b30de74fafbe"
      },
      "source": [
        "sns.barplot(x = np.sort(df['Region'].unique()), y = np.array(df.groupby('Region').mean()['Reviews'])).set(title = 'Average Reviews of each region', xlabel = 'Region', ylabel = 'Average Reviews')"
      ],
      "execution_count": 23,
      "outputs": [
        {
          "output_type": "execute_result",
          "data": {
            "text/plain": [
              "[Text(0, 0.5, 'Average Reviews'),\n",
              " Text(0.5, 0, 'Region'),\n",
              " Text(0.5, 1.0, 'Average Reviews of each region')]"
            ]
          },
          "metadata": {},
          "execution_count": 23
        },
        {
          "output_type": "display_data",
          "data": {
            "image/png": "[encoded data removed]",
            "text/plain": [
              "<Figure size 432x288 with 1 Axes>"
            ]
          },
          "metadata": {
            "needs_background": "light"
          }
        }
      ]
    },
    {
      "cell_type": "code",
      "metadata": {
        "colab": {
          "base_uri": "https://localhost:8080/"
        },
        "id": "kYgSzqKh7AHy",
        "outputId": "47de859b-3c79-4690-e884-ef2b0fbc8d9c"
      },
      "source": [
        "df.groupby('Region').mean()['Reviews'].sort_values(ascending = False)"
      ],
      "execution_count": 24,
      "outputs": [
        {
          "output_type": "execute_result",
          "data": {
            "text/plain": [
              "Region\n",
              "Lviv           1096.631579\n",
              "Kiev            764.600000\n",
              "Dnipro          589.947368\n",
              "Kharkiv         544.450000\n",
              "Poltava         535.250000\n",
              "Khrivoy Rog     461.900000\n",
              "Odessa          422.000000\n",
              "Zaporozhye      389.950000\n",
              "Kherson         370.157895\n",
              "Mariupol        193.800000\n",
              "Name: Reviews, dtype: float64"
            ]
          },
          "metadata": {},
          "execution_count": 24
        }
      ]
    },
    {
      "cell_type": "code",
      "metadata": {
        "colab": {
          "base_uri": "https://localhost:8080/",
          "height": 302
        },
        "id": "wXwYfie07AHy",
        "outputId": "c01fc812-2501-4343-ad01-c6258775e28d"
      },
      "source": [
        "sns.countplot(x = df['Region'], hue = df['Dine in option'])"
      ],
      "execution_count": 25,
      "outputs": [
        {
          "output_type": "execute_result",
          "data": {
            "text/plain": [
              "<matplotlib.axes._subplots.AxesSubplot at 0x7f880e0c6750>"
            ]
          },
          "metadata": {},
          "execution_count": 25
        },
        {
          "output_type": "display_data",
          "data": {
            "image/png": "[encoded data removed]",
            "text/plain": [
              "<Figure size 432x288 with 1 Axes>"
            ]
          },
          "metadata": {
            "needs_background": "light"
          }
        }
      ]
    },
    {
      "cell_type": "code",
      "metadata": {
        "id": "58DqeK-Z7AHy"
      },
      "source": [
        "testdf = df.copy()"
      ],
      "execution_count": 26,
      "outputs": []
    },
    {
      "cell_type": "markdown",
      "metadata": {
        "id": "FI1KqWo37AHy"
      },
      "source": [
        "# Label Encoding the Categorical Value\n",
        "Machine can only read numerical values not categorical, so before imputing we will encode the categorical data first"
      ]
    },
    {
      "cell_type": "code",
      "metadata": {
        "id": "OGukIYZi7AHz"
      },
      "source": [
        "to_encode = ['Region','Place type','Dine in option','Takeout option']\n",
        "encoder = LabelEncoder()\n",
        "for i in to_encode:\n",
        "    df[i] = encoder.fit_transform(df[i])"
      ],
      "execution_count": 27,
      "outputs": []
    },
    {
      "cell_type": "code",
      "metadata": {
        "id": "1IyU3twR7AHz"
      },
      "source": [
        "tempdf = df[['Price','Delivery option']]"
      ],
      "execution_count": 28,
      "outputs": []
    },
    {
      "cell_type": "code",
      "metadata": {
        "id": "MTgSxg5t7AHz"
      },
      "source": [
        "df_temp = tempdf.astype(\"str\").apply(LabelEncoder().fit_transform)\n",
        "df_final = df_temp.where(~tempdf.isna(), tempdf)"
      ],
      "execution_count": 29,
      "outputs": []
    },
    {
      "cell_type": "code",
      "metadata": {
        "id": "7qjB9i_p7AHz"
      },
      "source": [
        "df[['Price','Delivery option']] = df_final"
      ],
      "execution_count": 30,
      "outputs": []
    },
    {
      "cell_type": "code",
      "metadata": {
        "colab": {
          "base_uri": "https://localhost:8080/",
          "height": 202
        },
        "id": "pkXmTfJY7AHz",
        "outputId": "52b91fdb-25b5-431d-c700-472ca976e49a"
      },
      "source": [
        "df.head()"
      ],
      "execution_count": 31,
      "outputs": [
        {
          "output_type": "execute_result",
          "data": {
            "text/html": [
              "<div>\n",
              "<style scoped>\n",
              "    .dataframe tbody tr th:only-of-type {\n",
              "        vertical-align: middle;\n",
              "    }\n",
              "\n",
              "    .dataframe tbody tr th {\n",
              "        vertical-align: top;\n",
              "    }\n",
              "\n",
              "    .dataframe thead th {\n",
              "        text-align: right;\n",
              "    }\n",
              "</style>\n",
              "<table border=\"1\" class=\"dataframe\">\n",
              "  <thead>\n",
              "    <tr style=\"text-align: right;\">\n",
              "      <th></th>\n",
              "      <th>Region</th>\n",
              "      <th>Place type</th>\n",
              "      <th>Rating</th>\n",
              "      <th>Reviews</th>\n",
              "      <th>Price</th>\n",
              "      <th>Delivery option</th>\n",
              "      <th>Dine in option</th>\n",
              "      <th>Takeout option</th>\n",
              "    </tr>\n",
              "  </thead>\n",
              "  <tbody>\n",
              "    <tr>\n",
              "      <th>0</th>\n",
              "      <td>6</td>\n",
              "      <td>6</td>\n",
              "      <td>4.6</td>\n",
              "      <td>206.0</td>\n",
              "      <td>NaN</td>\n",
              "      <td>NaN</td>\n",
              "      <td>0</td>\n",
              "      <td>0</td>\n",
              "    </tr>\n",
              "    <tr>\n",
              "      <th>1</th>\n",
              "      <td>6</td>\n",
              "      <td>1</td>\n",
              "      <td>5.0</td>\n",
              "      <td>24.0</td>\n",
              "      <td>2</td>\n",
              "      <td>0</td>\n",
              "      <td>0</td>\n",
              "      <td>1</td>\n",
              "    </tr>\n",
              "    <tr>\n",
              "      <th>2</th>\n",
              "      <td>6</td>\n",
              "      <td>4</td>\n",
              "      <td>5.0</td>\n",
              "      <td>11.0</td>\n",
              "      <td>NaN</td>\n",
              "      <td>NaN</td>\n",
              "      <td>0</td>\n",
              "      <td>1</td>\n",
              "    </tr>\n",
              "    <tr>\n",
              "      <th>3</th>\n",
              "      <td>6</td>\n",
              "      <td>4</td>\n",
              "      <td>4.4</td>\n",
              "      <td>331.0</td>\n",
              "      <td>2</td>\n",
              "      <td>0</td>\n",
              "      <td>1</td>\n",
              "      <td>1</td>\n",
              "    </tr>\n",
              "    <tr>\n",
              "      <th>4</th>\n",
              "      <td>6</td>\n",
              "      <td>4</td>\n",
              "      <td>5.0</td>\n",
              "      <td>12.0</td>\n",
              "      <td>NaN</td>\n",
              "      <td>NaN</td>\n",
              "      <td>1</td>\n",
              "      <td>1</td>\n",
              "    </tr>\n",
              "  </tbody>\n",
              "</table>\n",
              "</div>"
            ],
            "text/plain": [
              "   Region  Place type  Rating  ...  Delivery option Dine in option Takeout option\n",
              "0       6           6     4.6  ...              NaN              0              0\n",
              "1       6           1     5.0  ...                0              0              1\n",
              "2       6           4     5.0  ...              NaN              0              1\n",
              "3       6           4     4.4  ...                0              1              1\n",
              "4       6           4     5.0  ...              NaN              1              1\n",
              "\n",
              "[5 rows x 8 columns]"
            ]
          },
          "metadata": {},
          "execution_count": 31
        }
      ]
    },
    {
      "cell_type": "markdown",
      "metadata": {
        "id": "Vbld9Wvq7AHz"
      },
      "source": [
        "# Impute The missing value using KNNImputer"
      ]
    },
    {
      "cell_type": "code",
      "metadata": {
        "id": "rhb2MxLT7AHz"
      },
      "source": [
        "imputer = KNNImputer()\n",
        "newdf = imputer.fit_transform(df)"
      ],
      "execution_count": 32,
      "outputs": []
    },
    {
      "cell_type": "code",
      "metadata": {
        "id": "69g9ywmV7AHz"
      },
      "source": [
        "finaldf = pd.DataFrame(newdf,columns = df.columns)\n",
        "finaldf['Delivery option'] = np.ceil(finaldf['Delivery option'])\n",
        "# Because Imputer make the data type float so the value is between 0 and 1, so we must ceil the number more than zero to one"
      ],
      "execution_count": 33,
      "outputs": []
    },
    {
      "cell_type": "code",
      "metadata": {
        "colab": {
          "base_uri": "https://localhost:8080/",
          "height": 202
        },
        "id": "wJpHT9JH7AH0",
        "outputId": "292babd5-d54c-4057-cbf3-f3ab8243f180"
      },
      "source": [
        "finaldf.head()"
      ],
      "execution_count": 34,
      "outputs": [
        {
          "output_type": "execute_result",
          "data": {
            "text/html": [
              "<div>\n",
              "<style scoped>\n",
              "    .dataframe tbody tr th:only-of-type {\n",
              "        vertical-align: middle;\n",
              "    }\n",
              "\n",
              "    .dataframe tbody tr th {\n",
              "        vertical-align: top;\n",
              "    }\n",
              "\n",
              "    .dataframe thead th {\n",
              "        text-align: right;\n",
              "    }\n",
              "</style>\n",
              "<table border=\"1\" class=\"dataframe\">\n",
              "  <thead>\n",
              "    <tr style=\"text-align: right;\">\n",
              "      <th></th>\n",
              "      <th>Region</th>\n",
              "      <th>Place type</th>\n",
              "      <th>Rating</th>\n",
              "      <th>Reviews</th>\n",
              "      <th>Price</th>\n",
              "      <th>Delivery option</th>\n",
              "      <th>Dine in option</th>\n",
              "      <th>Takeout option</th>\n",
              "    </tr>\n",
              "  </thead>\n",
              "  <tbody>\n",
              "    <tr>\n",
              "      <th>0</th>\n",
              "      <td>6.0</td>\n",
              "      <td>6.0</td>\n",
              "      <td>4.6</td>\n",
              "      <td>206.0</td>\n",
              "      <td>2.0</td>\n",
              "      <td>1.0</td>\n",
              "      <td>0.0</td>\n",
              "      <td>0.0</td>\n",
              "    </tr>\n",
              "    <tr>\n",
              "      <th>1</th>\n",
              "      <td>6.0</td>\n",
              "      <td>1.0</td>\n",
              "      <td>5.0</td>\n",
              "      <td>24.0</td>\n",
              "      <td>2.0</td>\n",
              "      <td>0.0</td>\n",
              "      <td>0.0</td>\n",
              "      <td>1.0</td>\n",
              "    </tr>\n",
              "    <tr>\n",
              "      <th>2</th>\n",
              "      <td>6.0</td>\n",
              "      <td>4.0</td>\n",
              "      <td>5.0</td>\n",
              "      <td>11.0</td>\n",
              "      <td>2.0</td>\n",
              "      <td>0.0</td>\n",
              "      <td>0.0</td>\n",
              "      <td>1.0</td>\n",
              "    </tr>\n",
              "    <tr>\n",
              "      <th>3</th>\n",
              "      <td>6.0</td>\n",
              "      <td>4.0</td>\n",
              "      <td>4.4</td>\n",
              "      <td>331.0</td>\n",
              "      <td>2.0</td>\n",
              "      <td>0.0</td>\n",
              "      <td>1.0</td>\n",
              "      <td>1.0</td>\n",
              "    </tr>\n",
              "    <tr>\n",
              "      <th>4</th>\n",
              "      <td>6.0</td>\n",
              "      <td>4.0</td>\n",
              "      <td>5.0</td>\n",
              "      <td>12.0</td>\n",
              "      <td>2.0</td>\n",
              "      <td>0.0</td>\n",
              "      <td>1.0</td>\n",
              "      <td>1.0</td>\n",
              "    </tr>\n",
              "  </tbody>\n",
              "</table>\n",
              "</div>"
            ],
            "text/plain": [
              "   Region  Place type  Rating  ...  Delivery option  Dine in option  Takeout option\n",
              "0     6.0         6.0     4.6  ...              1.0             0.0             0.0\n",
              "1     6.0         1.0     5.0  ...              0.0             0.0             1.0\n",
              "2     6.0         4.0     5.0  ...              0.0             0.0             1.0\n",
              "3     6.0         4.0     4.4  ...              0.0             1.0             1.0\n",
              "4     6.0         4.0     5.0  ...              0.0             1.0             1.0\n",
              "\n",
              "[5 rows x 8 columns]"
            ]
          },
          "metadata": {},
          "execution_count": 34
        }
      ]
    },
    {
      "cell_type": "markdown",
      "metadata": {
        "id": "LtA9EHfX7AH0"
      },
      "source": [
        "# We will use KNN as the model, and we will use elbow curve to determine the most optimal K "
      ]
    },
    {
      "cell_type": "code",
      "metadata": {
        "colab": {
          "base_uri": "https://localhost:8080/",
          "height": 301
        },
        "id": "L4B8LBJB7AH0",
        "outputId": "80f28577-ed20-445d-c92e-74b112988d9b"
      },
      "source": [
        "inertia = []\n",
        "for num_clusters in range(1,9) :\n",
        "    kmeans = KMeans(n_clusters=num_clusters)\n",
        "    kmeans.fit(finaldf)\n",
        "    inertia.append(kmeans.inertia_)\n",
        "plt.plot(range(1,9),inertia)\n",
        "plt.xlabel('Values of K') \n",
        "plt.ylabel('Sum of squared distances/Inertia') \n",
        "plt.title('Elbow Method')\n",
        "plt.show()"
      ],
      "execution_count": 35,
      "outputs": [
        {
          "output_type": "display_data",
          "data": {
            "image/png": "[encoded data removed]",
            "text/plain": [
              "<Figure size 432x288 with 1 Axes>"
            ]
          },
          "metadata": {
            "needs_background": "light"
          }
        }
      ]
    },
    {
      "cell_type": "markdown",
      "metadata": {
        "id": "FgrrDMLR7AH0"
      },
      "source": [
        "# Based on the elbow Curves the most optimal K is 4, so i will use 4 as k in the Kmeans"
      ]
    },
    {
      "cell_type": "code",
      "metadata": {
        "colab": {
          "base_uri": "https://localhost:8080/"
        },
        "id": "06EnYxeb7AH0",
        "outputId": "e17853f0-4125-474c-bdea-68cde5b85c98"
      },
      "source": [
        "model = KMeans(n_clusters = 4, random_state = 42)\n",
        "model.fit(finaldf)"
      ],
      "execution_count": 36,
      "outputs": [
        {
          "output_type": "execute_result",
          "data": {
            "text/plain": [
              "KMeans(algorithm='auto', copy_x=True, init='k-means++', max_iter=300,\n",
              "       n_clusters=4, n_init=10, n_jobs=None, precompute_distances='auto',\n",
              "       random_state=42, tol=0.0001, verbose=0)"
            ]
          },
          "metadata": {},
          "execution_count": 36
        }
      ]
    },
    {
      "cell_type": "code",
      "metadata": {
        "colab": {
          "base_uri": "https://localhost:8080/",
          "height": 371
        },
        "id": "WXfunr_a7AH0",
        "outputId": "debc6390-221a-422a-f6b9-4e54bc7526bb"
      },
      "source": [
        "sns.scatterplot(finaldf.Reviews, finaldf.Rating, hue = model.predict(finaldf), palette = 'flag').set(title = 'scatter of reviews and rating')"
      ],
      "execution_count": 37,
      "outputs": [
        {
          "output_type": "stream",
          "name": "stderr",
          "text": [
            "/usr/local/lib/python3.7/dist-packages/seaborn/_decorators.py:43: FutureWarning: Pass the following variables as keyword args: x, y. From version 0.12, the only valid positional argument will be `data`, and passing other arguments without an explicit keyword will result in an error or misinterpretation.\n",
            "  FutureWarning\n"
          ]
        },
        {
          "output_type": "execute_result",
          "data": {
            "text/plain": [
              "[Text(0.5, 1.0, 'scatter of reviews and rating')]"
            ]
          },
          "metadata": {},
          "execution_count": 37
        },
        {
          "output_type": "display_data",
          "data": {
            "image/png": "[encoded data removed]",
            "text/plain": [
              "<Figure size 432x288 with 1 Axes>"
            ]
          },
          "metadata": {
            "needs_background": "light"
          }
        }
      ]
    },
    {
      "cell_type": "markdown",
      "metadata": {
        "id": "Ude81Vti7AH1"
      },
      "source": [
        "# With The clustering prediction we can check the feature importance using RandomForest, and set the predicted cluster as the label"
      ]
    },
    {
      "cell_type": "code",
      "metadata": {
        "id": "aYQb5nQA7AH1"
      },
      "source": [
        "from sklearn.ensemble import RandomForestClassifier\n",
        "X, y = finaldf, model.predict(finaldf)\n",
        "clf = RandomForestClassifier(n_estimators=100).fit(X, y)"
      ],
      "execution_count": 38,
      "outputs": []
    },
    {
      "cell_type": "code",
      "metadata": {
        "colab": {
          "base_uri": "https://localhost:8080/",
          "height": 294
        },
        "id": "ecMexKZ97AH1",
        "outputId": "1c6cbf99-ee1f-4b58-a3c5-fb6a3ceaec80"
      },
      "source": [
        "featureimportance = pd.DataFrame(columns = ['Feature','Importance'])\n",
        "featureimportance['Feature'] = finaldf.columns\n",
        "featureimportance['Importance'] = clf.feature_importances_\n",
        "featureimportance"
      ],
      "execution_count": 39,
      "outputs": [
        {
          "output_type": "execute_result",
          "data": {
            "text/html": [
              "<div>\n",
              "<style scoped>\n",
              "    .dataframe tbody tr th:only-of-type {\n",
              "        vertical-align: middle;\n",
              "    }\n",
              "\n",
              "    .dataframe tbody tr th {\n",
              "        vertical-align: top;\n",
              "    }\n",
              "\n",
              "    .dataframe thead th {\n",
              "        text-align: right;\n",
              "    }\n",
              "</style>\n",
              "<table border=\"1\" class=\"dataframe\">\n",
              "  <thead>\n",
              "    <tr style=\"text-align: right;\">\n",
              "      <th></th>\n",
              "      <th>Feature</th>\n",
              "      <th>Importance</th>\n",
              "    </tr>\n",
              "  </thead>\n",
              "  <tbody>\n",
              "    <tr>\n",
              "      <th>0</th>\n",
              "      <td>Region</td>\n",
              "      <td>0.069702</td>\n",
              "    </tr>\n",
              "    <tr>\n",
              "      <th>1</th>\n",
              "      <td>Place type</td>\n",
              "      <td>0.039436</td>\n",
              "    </tr>\n",
              "    <tr>\n",
              "      <th>2</th>\n",
              "      <td>Rating</td>\n",
              "      <td>0.088602</td>\n",
              "    </tr>\n",
              "    <tr>\n",
              "      <th>3</th>\n",
              "      <td>Reviews</td>\n",
              "      <td>0.690553</td>\n",
              "    </tr>\n",
              "    <tr>\n",
              "      <th>4</th>\n",
              "      <td>Price</td>\n",
              "      <td>0.016734</td>\n",
              "    </tr>\n",
              "    <tr>\n",
              "      <th>5</th>\n",
              "      <td>Delivery option</td>\n",
              "      <td>0.023119</td>\n",
              "    </tr>\n",
              "    <tr>\n",
              "      <th>6</th>\n",
              "      <td>Dine in option</td>\n",
              "      <td>0.045813</td>\n",
              "    </tr>\n",
              "    <tr>\n",
              "      <th>7</th>\n",
              "      <td>Takeout option</td>\n",
              "      <td>0.026041</td>\n",
              "    </tr>\n",
              "  </tbody>\n",
              "</table>\n",
              "</div>"
            ],
            "text/plain": [
              "           Feature  Importance\n",
              "0           Region    0.069702\n",
              "1       Place type    0.039436\n",
              "2           Rating    0.088602\n",
              "3          Reviews    0.690553\n",
              "4            Price    0.016734\n",
              "5  Delivery option    0.023119\n",
              "6   Dine in option    0.045813\n",
              "7   Takeout option    0.026041"
            ]
          },
          "metadata": {},
          "execution_count": 39
        }
      ]
    },
    {
      "cell_type": "code",
      "metadata": {
        "colab": {
          "base_uri": "https://localhost:8080/",
          "height": 550
        },
        "id": "HJ32PB1a7AH1",
        "outputId": "02ec59a9-0b42-4ece-d7c2-a456addb907b"
      },
      "source": [
        "sns.set(rc={'figure.figsize':(11.7,8.27)})\n",
        "sns.barplot(x = featureimportance['Feature'], y = featureimportance['Importance'],  order=featureimportance.sort_values('Importance').Feature).set(title = 'Feature Importance of each Feature')"
      ],
      "execution_count": 40,
      "outputs": [
        {
          "output_type": "execute_result",
          "data": {
            "text/plain": [
              "[Text(0.5, 1.0, 'Feature Importance of each Feature')]"
            ]
          },
          "metadata": {},
          "execution_count": 40
        },
        {
          "output_type": "display_data",
          "data": {
            "image/png": "[encoded data removed]",
            "text/plain": [
              "<Figure size 842.4x595.44 with 1 Axes>"
            ]
          },
          "metadata": {}
        }
      ]
    },
    {
      "cell_type": "code",
      "metadata": {
        "colab": {
          "base_uri": "https://localhost:8080/",
          "height": 141
        },
        "id": "nfAgiJiB7AH1",
        "outputId": "6bb319f3-2cb5-4d60-d41d-86994ad6e4f6"
      },
      "source": [
        "featureimportance[featureimportance['Importance'] >= 0.05]"
      ],
      "execution_count": 41,
      "outputs": [
        {
          "output_type": "execute_result",
          "data": {
            "text/html": [
              "<div>\n",
              "<style scoped>\n",
              "    .dataframe tbody tr th:only-of-type {\n",
              "        vertical-align: middle;\n",
              "    }\n",
              "\n",
              "    .dataframe tbody tr th {\n",
              "        vertical-align: top;\n",
              "    }\n",
              "\n",
              "    .dataframe thead th {\n",
              "        text-align: right;\n",
              "    }\n",
              "</style>\n",
              "<table border=\"1\" class=\"dataframe\">\n",
              "  <thead>\n",
              "    <tr style=\"text-align: right;\">\n",
              "      <th></th>\n",
              "      <th>Feature</th>\n",
              "      <th>Importance</th>\n",
              "    </tr>\n",
              "  </thead>\n",
              "  <tbody>\n",
              "    <tr>\n",
              "      <th>0</th>\n",
              "      <td>Region</td>\n",
              "      <td>0.069702</td>\n",
              "    </tr>\n",
              "    <tr>\n",
              "      <th>2</th>\n",
              "      <td>Rating</td>\n",
              "      <td>0.088602</td>\n",
              "    </tr>\n",
              "    <tr>\n",
              "      <th>3</th>\n",
              "      <td>Reviews</td>\n",
              "      <td>0.690553</td>\n",
              "    </tr>\n",
              "  </tbody>\n",
              "</table>\n",
              "</div>"
            ],
            "text/plain": [
              "   Feature  Importance\n",
              "0   Region    0.069702\n",
              "2   Rating    0.088602\n",
              "3  Reviews    0.690553"
            ]
          },
          "metadata": {},
          "execution_count": 41
        }
      ]
    },
    {
      "cell_type": "markdown",
      "metadata": {
        "id": "OzHJU2Pv7AH1"
      },
      "source": [
        "# Based on the Feature Importance Above, we can conclude That the key Features is Reviews, Rating, Region, and Dining Option with a treshold of feature importance above 0.05"
      ]
    },
    {
      "cell_type": "code",
      "metadata": {
        "id": "qIacNpuc7AH1"
      },
      "source": [
        "column_name_key = featureimportance[featureimportance['Importance'] >= 0.05].Feature.values"
      ],
      "execution_count": 42,
      "outputs": []
    },
    {
      "cell_type": "code",
      "metadata": {
        "id": "e1gSegD17AH2"
      },
      "source": [
        "testdf['Cluster'] = model.predict(finaldf)"
      ],
      "execution_count": 43,
      "outputs": []
    },
    {
      "cell_type": "markdown",
      "metadata": {
        "id": "lrQKZTUv7AH2"
      },
      "source": [
        "# Data Analysis 2"
      ]
    },
    {
      "cell_type": "markdown",
      "metadata": {
        "id": "AXaKUvXH7AH2"
      },
      "source": [
        "# Now We will see the count of each cluster of each element of columns with high feature importance"
      ]
    },
    {
      "cell_type": "code",
      "metadata": {
        "tags": [],
        "colab": {
          "base_uri": "https://localhost:8080/",
          "height": 710
        },
        "id": "TmfZpcv47AH2",
        "outputId": "dcefcd8b-b17b-46ae-f3c2-acce3f432e21"
      },
      "source": [
        "fig = plt.figure(figsize=(20, 18))\n",
        "x = 1\n",
        "for i in column_name_key:\n",
        "    if i == 'Reviews':\n",
        "        continue\n",
        "    plt.subplots(figsize = (15,5))\n",
        "    sns.countplot(x=testdf[i],hue=testdf['Cluster'])\n",
        "    plt.title('Count of each cluster of each element of column {}'.format(i))\n",
        "    plt.show()\n",
        "    x += 1"
      ],
      "execution_count": 44,
      "outputs": [
        {
          "output_type": "display_data",
          "data": {
            "text/plain": [
              "<Figure size 1440x1296 with 0 Axes>"
            ]
          },
          "metadata": {}
        },
        {
          "output_type": "display_data",
          "data": {
            "image/png": "[encoded data removed]",
            "text/plain": [
              "<Figure size 1080x360 with 1 Axes>"
            ]
          },
          "metadata": {}
        },
        {
          "output_type": "display_data",
          "data": {
            "image/png": "[encoded data removed]",
            "text/plain": [
              "<Figure size 1080x360 with 1 Axes>"
            ]
          },
          "metadata": {}
        }
      ]
    },
    {
      "cell_type": "markdown",
      "metadata": {
        "id": "qLD5ASyP7AH2"
      },
      "source": [
        "# LVIV"
      ]
    },
    {
      "cell_type": "markdown",
      "metadata": {
        "id": "nXYJFLhz7AH2"
      },
      "source": [
        "# Cluster 0"
      ]
    },
    {
      "cell_type": "code",
      "metadata": {
        "colab": {
          "base_uri": "https://localhost:8080/",
          "height": 0
        },
        "id": "V6J2ZbXu7AH2",
        "outputId": "f74de43c-5e96-4701-eb0f-f3e84b01e5df"
      },
      "source": [
        "testdf.loc[(testdf['Region'] == 'Lviv') & (testdf['Cluster'] == 0)]"
      ],
      "execution_count": 45,
      "outputs": [
        {
          "output_type": "execute_result",
          "data": {
            "text/html": [
              "<div>\n",
              "<style scoped>\n",
              "    .dataframe tbody tr th:only-of-type {\n",
              "        vertical-align: middle;\n",
              "    }\n",
              "\n",
              "    .dataframe tbody tr th {\n",
              "        vertical-align: top;\n",
              "    }\n",
              "\n",
              "    .dataframe thead th {\n",
              "        text-align: right;\n",
              "    }\n",
              "</style>\n",
              "<table border=\"1\" class=\"dataframe\">\n",
              "  <thead>\n",
              "    <tr style=\"text-align: right;\">\n",
              "      <th></th>\n",
              "      <th>Region</th>\n",
              "      <th>Place type</th>\n",
              "      <th>Rating</th>\n",
              "      <th>Reviews</th>\n",
              "      <th>Price</th>\n",
              "      <th>Delivery option</th>\n",
              "      <th>Dine in option</th>\n",
              "      <th>Takeout option</th>\n",
              "      <th>Cluster</th>\n",
              "    </tr>\n",
              "  </thead>\n",
              "  <tbody>\n",
              "    <tr>\n",
              "      <th>107</th>\n",
              "      <td>Lviv</td>\n",
              "      <td>Coffee shop</td>\n",
              "      <td>4.3</td>\n",
              "      <td>102.0</td>\n",
              "      <td>NaN</td>\n",
              "      <td>NaN</td>\n",
              "      <td>True</td>\n",
              "      <td>True</td>\n",
              "      <td>0</td>\n",
              "    </tr>\n",
              "    <tr>\n",
              "      <th>111</th>\n",
              "      <td>Lviv</td>\n",
              "      <td>Coffee shop</td>\n",
              "      <td>5.0</td>\n",
              "      <td>24.0</td>\n",
              "      <td>NaN</td>\n",
              "      <td>True</td>\n",
              "      <td>True</td>\n",
              "      <td>True</td>\n",
              "      <td>0</td>\n",
              "    </tr>\n",
              "    <tr>\n",
              "      <th>112</th>\n",
              "      <td>Lviv</td>\n",
              "      <td>Coffee shop</td>\n",
              "      <td>4.7</td>\n",
              "      <td>363.0</td>\n",
              "      <td>ss</td>\n",
              "      <td>False</td>\n",
              "      <td>True</td>\n",
              "      <td>True</td>\n",
              "      <td>0</td>\n",
              "    </tr>\n",
              "    <tr>\n",
              "      <th>116</th>\n",
              "      <td>Lviv</td>\n",
              "      <td>Cafe</td>\n",
              "      <td>5.0</td>\n",
              "      <td>10.0</td>\n",
              "      <td>NaN</td>\n",
              "      <td>NaN</td>\n",
              "      <td>False</td>\n",
              "      <td>True</td>\n",
              "      <td>0</td>\n",
              "    </tr>\n",
              "    <tr>\n",
              "      <th>118</th>\n",
              "      <td>Lviv</td>\n",
              "      <td>Cafe</td>\n",
              "      <td>4.9</td>\n",
              "      <td>157.0</td>\n",
              "      <td>ss</td>\n",
              "      <td>False</td>\n",
              "      <td>True</td>\n",
              "      <td>True</td>\n",
              "      <td>0</td>\n",
              "    </tr>\n",
              "    <tr>\n",
              "      <th>119</th>\n",
              "      <td>Lviv</td>\n",
              "      <td>Coffee shop</td>\n",
              "      <td>4.9</td>\n",
              "      <td>321.0</td>\n",
              "      <td>ss</td>\n",
              "      <td>False</td>\n",
              "      <td>True</td>\n",
              "      <td>True</td>\n",
              "      <td>0</td>\n",
              "    </tr>\n",
              "  </tbody>\n",
              "</table>\n",
              "</div>"
            ],
            "text/plain": [
              "    Region   Place type  Rating  ...  Dine in option Takeout option Cluster\n",
              "107   Lviv  Coffee shop     4.3  ...            True           True       0\n",
              "111   Lviv  Coffee shop     5.0  ...            True           True       0\n",
              "112   Lviv  Coffee shop     4.7  ...            True           True       0\n",
              "116   Lviv         Cafe     5.0  ...           False           True       0\n",
              "118   Lviv         Cafe     4.9  ...            True           True       0\n",
              "119   Lviv  Coffee shop     4.9  ...            True           True       0\n",
              "\n",
              "[6 rows x 9 columns]"
            ]
          },
          "metadata": {},
          "execution_count": 45
        }
      ]
    },
    {
      "cell_type": "code",
      "metadata": {
        "colab": {
          "base_uri": "https://localhost:8080/"
        },
        "id": "S6I4oKuI7AH2",
        "outputId": "cff7af73-097a-40a7-8c9a-cf8f353ff7a4"
      },
      "source": [
        "print(testdf.loc[(testdf['Region'] == 'Lviv') & (testdf['Cluster'] == 0)].mean())"
      ],
      "execution_count": 46,
      "outputs": [
        {
          "output_type": "stream",
          "name": "stdout",
          "text": [
            "Rating               4.800000\n",
            "Reviews            162.833333\n",
            "Delivery option      0.250000\n",
            "Dine in option       0.833333\n",
            "Takeout option       1.000000\n",
            "Cluster              0.000000\n",
            "dtype: float64\n"
          ]
        }
      ]
    },
    {
      "cell_type": "markdown",
      "metadata": {
        "id": "rW37aGPh7AH2"
      },
      "source": [
        "# Cluster 1"
      ]
    },
    {
      "cell_type": "code",
      "metadata": {
        "colab": {
          "base_uri": "https://localhost:8080/",
          "height": 0
        },
        "id": "vlGNvrZM7AH3",
        "outputId": "e3a16f4c-9168-4c3e-ac3d-eff0ddaf2a0d"
      },
      "source": [
        "testdf.loc[(testdf['Region'] == 'Lviv') & (testdf['Cluster'] == 1)]"
      ],
      "execution_count": 47,
      "outputs": [
        {
          "output_type": "execute_result",
          "data": {
            "text/html": [
              "<div>\n",
              "<style scoped>\n",
              "    .dataframe tbody tr th:only-of-type {\n",
              "        vertical-align: middle;\n",
              "    }\n",
              "\n",
              "    .dataframe tbody tr th {\n",
              "        vertical-align: top;\n",
              "    }\n",
              "\n",
              "    .dataframe thead th {\n",
              "        text-align: right;\n",
              "    }\n",
              "</style>\n",
              "<table border=\"1\" class=\"dataframe\">\n",
              "  <thead>\n",
              "    <tr style=\"text-align: right;\">\n",
              "      <th></th>\n",
              "      <th>Region</th>\n",
              "      <th>Place type</th>\n",
              "      <th>Rating</th>\n",
              "      <th>Reviews</th>\n",
              "      <th>Price</th>\n",
              "      <th>Delivery option</th>\n",
              "      <th>Dine in option</th>\n",
              "      <th>Takeout option</th>\n",
              "      <th>Cluster</th>\n",
              "    </tr>\n",
              "  </thead>\n",
              "  <tbody>\n",
              "    <tr>\n",
              "      <th>104</th>\n",
              "      <td>Lviv</td>\n",
              "      <td>Coffee shop</td>\n",
              "      <td>4.6</td>\n",
              "      <td>1517.0</td>\n",
              "      <td>ss</td>\n",
              "      <td>False</td>\n",
              "      <td>True</td>\n",
              "      <td>True</td>\n",
              "      <td>1</td>\n",
              "    </tr>\n",
              "    <tr>\n",
              "      <th>113</th>\n",
              "      <td>Lviv</td>\n",
              "      <td>Coffee roasters</td>\n",
              "      <td>4.6</td>\n",
              "      <td>1199.0</td>\n",
              "      <td>NaN</td>\n",
              "      <td>False</td>\n",
              "      <td>True</td>\n",
              "      <td>True</td>\n",
              "      <td>1</td>\n",
              "    </tr>\n",
              "    <tr>\n",
              "      <th>114</th>\n",
              "      <td>Lviv</td>\n",
              "      <td>Coffee shop</td>\n",
              "      <td>4.6</td>\n",
              "      <td>1284.0</td>\n",
              "      <td>ss</td>\n",
              "      <td>False</td>\n",
              "      <td>True</td>\n",
              "      <td>True</td>\n",
              "      <td>1</td>\n",
              "    </tr>\n",
              "    <tr>\n",
              "      <th>115</th>\n",
              "      <td>Lviv</td>\n",
              "      <td>Cafe</td>\n",
              "      <td>4.6</td>\n",
              "      <td>1570.0</td>\n",
              "      <td>ss</td>\n",
              "      <td>True</td>\n",
              "      <td>True</td>\n",
              "      <td>True</td>\n",
              "      <td>1</td>\n",
              "    </tr>\n",
              "  </tbody>\n",
              "</table>\n",
              "</div>"
            ],
            "text/plain": [
              "    Region       Place type  Rating  ...  Dine in option Takeout option Cluster\n",
              "104   Lviv      Coffee shop     4.6  ...            True           True       1\n",
              "113   Lviv  Coffee roasters     4.6  ...            True           True       1\n",
              "114   Lviv      Coffee shop     4.6  ...            True           True       1\n",
              "115   Lviv             Cafe     4.6  ...            True           True       1\n",
              "\n",
              "[4 rows x 9 columns]"
            ]
          },
          "metadata": {},
          "execution_count": 47
        }
      ]
    },
    {
      "cell_type": "code",
      "metadata": {
        "colab": {
          "base_uri": "https://localhost:8080/"
        },
        "id": "iei1QmvT7AH3",
        "outputId": "9fb201eb-9a72-4cc5-dad6-0bbe968402b1"
      },
      "source": [
        "print(testdf.loc[(testdf['Region'] == 'Lviv') & (testdf['Cluster'] == 1)].mean())"
      ],
      "execution_count": 48,
      "outputs": [
        {
          "output_type": "stream",
          "name": "stdout",
          "text": [
            "Rating                4.60\n",
            "Reviews            1392.50\n",
            "Delivery option       0.25\n",
            "Dine in option        1.00\n",
            "Takeout option        1.00\n",
            "Cluster               1.00\n",
            "dtype: float64\n"
          ]
        }
      ]
    },
    {
      "cell_type": "markdown",
      "metadata": {
        "id": "mIxJlbiX7AH3"
      },
      "source": [
        "# Cluster 2"
      ]
    },
    {
      "cell_type": "code",
      "metadata": {
        "colab": {
          "base_uri": "https://localhost:8080/",
          "height": 0
        },
        "id": "Ka0EfOxZ7AH3",
        "outputId": "feeacbb2-7874-4e3c-bad4-249558eee887"
      },
      "source": [
        "testdf.loc[(testdf['Region'] == 'Lviv') & (testdf['Cluster'] == 2)]"
      ],
      "execution_count": 49,
      "outputs": [
        {
          "output_type": "execute_result",
          "data": {
            "text/html": [
              "<div>\n",
              "<style scoped>\n",
              "    .dataframe tbody tr th:only-of-type {\n",
              "        vertical-align: middle;\n",
              "    }\n",
              "\n",
              "    .dataframe tbody tr th {\n",
              "        vertical-align: top;\n",
              "    }\n",
              "\n",
              "    .dataframe thead th {\n",
              "        text-align: right;\n",
              "    }\n",
              "</style>\n",
              "<table border=\"1\" class=\"dataframe\">\n",
              "  <thead>\n",
              "    <tr style=\"text-align: right;\">\n",
              "      <th></th>\n",
              "      <th>Region</th>\n",
              "      <th>Place type</th>\n",
              "      <th>Rating</th>\n",
              "      <th>Reviews</th>\n",
              "      <th>Price</th>\n",
              "      <th>Delivery option</th>\n",
              "      <th>Dine in option</th>\n",
              "      <th>Takeout option</th>\n",
              "      <th>Cluster</th>\n",
              "    </tr>\n",
              "  </thead>\n",
              "  <tbody>\n",
              "    <tr>\n",
              "      <th>103</th>\n",
              "      <td>Lviv</td>\n",
              "      <td>Coffee shop</td>\n",
              "      <td>4.4</td>\n",
              "      <td>813.0</td>\n",
              "      <td>ss</td>\n",
              "      <td>False</td>\n",
              "      <td>True</td>\n",
              "      <td>True</td>\n",
              "      <td>2</td>\n",
              "    </tr>\n",
              "    <tr>\n",
              "      <th>105</th>\n",
              "      <td>Lviv</td>\n",
              "      <td>Coffee shop</td>\n",
              "      <td>4.8</td>\n",
              "      <td>858.0</td>\n",
              "      <td>ss</td>\n",
              "      <td>NaN</td>\n",
              "      <td>True</td>\n",
              "      <td>True</td>\n",
              "      <td>2</td>\n",
              "    </tr>\n",
              "    <tr>\n",
              "      <th>106</th>\n",
              "      <td>Lviv</td>\n",
              "      <td>Coffee shop</td>\n",
              "      <td>4.6</td>\n",
              "      <td>702.0</td>\n",
              "      <td>ss</td>\n",
              "      <td>False</td>\n",
              "      <td>True</td>\n",
              "      <td>True</td>\n",
              "      <td>2</td>\n",
              "    </tr>\n",
              "    <tr>\n",
              "      <th>108</th>\n",
              "      <td>Lviv</td>\n",
              "      <td>Coffee shop</td>\n",
              "      <td>4.5</td>\n",
              "      <td>778.0</td>\n",
              "      <td>ss</td>\n",
              "      <td>False</td>\n",
              "      <td>True</td>\n",
              "      <td>True</td>\n",
              "      <td>2</td>\n",
              "    </tr>\n",
              "    <tr>\n",
              "      <th>109</th>\n",
              "      <td>Lviv</td>\n",
              "      <td>Coffee shop</td>\n",
              "      <td>4.6</td>\n",
              "      <td>1009.0</td>\n",
              "      <td>ss</td>\n",
              "      <td>False</td>\n",
              "      <td>True</td>\n",
              "      <td>True</td>\n",
              "      <td>2</td>\n",
              "    </tr>\n",
              "  </tbody>\n",
              "</table>\n",
              "</div>"
            ],
            "text/plain": [
              "    Region   Place type  Rating  ...  Dine in option Takeout option Cluster\n",
              "103   Lviv  Coffee shop     4.4  ...            True           True       2\n",
              "105   Lviv  Coffee shop     4.8  ...            True           True       2\n",
              "106   Lviv  Coffee shop     4.6  ...            True           True       2\n",
              "108   Lviv  Coffee shop     4.5  ...            True           True       2\n",
              "109   Lviv  Coffee shop     4.6  ...            True           True       2\n",
              "\n",
              "[5 rows x 9 columns]"
            ]
          },
          "metadata": {},
          "execution_count": 49
        }
      ]
    },
    {
      "cell_type": "code",
      "metadata": {
        "colab": {
          "base_uri": "https://localhost:8080/"
        },
        "id": "l5ODXj4D7AH3",
        "outputId": "49562603-eba7-4036-ce26-0ae594f4d410"
      },
      "source": [
        "print(testdf.loc[(testdf['Region'] == 'Lviv') & (testdf['Cluster'] == 2)].mean())"
      ],
      "execution_count": 50,
      "outputs": [
        {
          "output_type": "stream",
          "name": "stdout",
          "text": [
            "Rating               4.58\n",
            "Reviews            832.00\n",
            "Delivery option      0.00\n",
            "Dine in option       1.00\n",
            "Takeout option       1.00\n",
            "Cluster              2.00\n",
            "dtype: float64\n"
          ]
        }
      ]
    },
    {
      "cell_type": "markdown",
      "metadata": {
        "id": "2IYChVHO7AH3"
      },
      "source": [
        "# Cluster 3"
      ]
    },
    {
      "cell_type": "code",
      "metadata": {
        "colab": {
          "base_uri": "https://localhost:8080/",
          "height": 0
        },
        "id": "2AMwCjgo7AH3",
        "outputId": "f4caaa85-f813-4b78-d3ce-c4bc46145c70"
      },
      "source": [
        "testdf.loc[(testdf['Region'] == 'Lviv') & (testdf['Cluster'] == 3)]"
      ],
      "execution_count": 51,
      "outputs": [
        {
          "output_type": "execute_result",
          "data": {
            "text/html": [
              "<div>\n",
              "<style scoped>\n",
              "    .dataframe tbody tr th:only-of-type {\n",
              "        vertical-align: middle;\n",
              "    }\n",
              "\n",
              "    .dataframe tbody tr th {\n",
              "        vertical-align: top;\n",
              "    }\n",
              "\n",
              "    .dataframe thead th {\n",
              "        text-align: right;\n",
              "    }\n",
              "</style>\n",
              "<table border=\"1\" class=\"dataframe\">\n",
              "  <thead>\n",
              "    <tr style=\"text-align: right;\">\n",
              "      <th></th>\n",
              "      <th>Region</th>\n",
              "      <th>Place type</th>\n",
              "      <th>Rating</th>\n",
              "      <th>Reviews</th>\n",
              "      <th>Price</th>\n",
              "      <th>Delivery option</th>\n",
              "      <th>Dine in option</th>\n",
              "      <th>Takeout option</th>\n",
              "      <th>Cluster</th>\n",
              "    </tr>\n",
              "  </thead>\n",
              "  <tbody>\n",
              "    <tr>\n",
              "      <th>101</th>\n",
              "      <td>Lviv</td>\n",
              "      <td>Coffee shop</td>\n",
              "      <td>4.6</td>\n",
              "      <td>2931.0</td>\n",
              "      <td>ss</td>\n",
              "      <td>NaN</td>\n",
              "      <td>True</td>\n",
              "      <td>True</td>\n",
              "      <td>3</td>\n",
              "    </tr>\n",
              "    <tr>\n",
              "      <th>102</th>\n",
              "      <td>Lviv</td>\n",
              "      <td>Coffee shop</td>\n",
              "      <td>4.7</td>\n",
              "      <td>2089.0</td>\n",
              "      <td>ss</td>\n",
              "      <td>False</td>\n",
              "      <td>True</td>\n",
              "      <td>True</td>\n",
              "      <td>3</td>\n",
              "    </tr>\n",
              "    <tr>\n",
              "      <th>110</th>\n",
              "      <td>Lviv</td>\n",
              "      <td>Coffee shop</td>\n",
              "      <td>4.8</td>\n",
              "      <td>2873.0</td>\n",
              "      <td>ss</td>\n",
              "      <td>False</td>\n",
              "      <td>True</td>\n",
              "      <td>True</td>\n",
              "      <td>3</td>\n",
              "    </tr>\n",
              "    <tr>\n",
              "      <th>117</th>\n",
              "      <td>Lviv</td>\n",
              "      <td>Cafe</td>\n",
              "      <td>4.5</td>\n",
              "      <td>2236.0</td>\n",
              "      <td>ss</td>\n",
              "      <td>False</td>\n",
              "      <td>True</td>\n",
              "      <td>True</td>\n",
              "      <td>3</td>\n",
              "    </tr>\n",
              "  </tbody>\n",
              "</table>\n",
              "</div>"
            ],
            "text/plain": [
              "    Region   Place type  Rating  ...  Dine in option Takeout option Cluster\n",
              "101   Lviv  Coffee shop     4.6  ...            True           True       3\n",
              "102   Lviv  Coffee shop     4.7  ...            True           True       3\n",
              "110   Lviv  Coffee shop     4.8  ...            True           True       3\n",
              "117   Lviv         Cafe     4.5  ...            True           True       3\n",
              "\n",
              "[4 rows x 9 columns]"
            ]
          },
          "metadata": {},
          "execution_count": 51
        }
      ]
    },
    {
      "cell_type": "code",
      "metadata": {
        "colab": {
          "base_uri": "https://localhost:8080/"
        },
        "id": "NouatNeN7AH3",
        "outputId": "ada38dd2-0168-4e0b-bca2-ce632ac8ae8c"
      },
      "source": [
        "print(testdf.loc[(testdf['Region'] == 'Lviv') & (testdf['Cluster'] == 3)].mean())"
      ],
      "execution_count": 52,
      "outputs": [
        {
          "output_type": "stream",
          "name": "stdout",
          "text": [
            "Rating                4.65\n",
            "Reviews            2532.25\n",
            "Delivery option       0.00\n",
            "Dine in option        1.00\n",
            "Takeout option        1.00\n",
            "Cluster               3.00\n",
            "dtype: float64\n"
          ]
        }
      ]
    },
    {
      "cell_type": "code",
      "metadata": {
        "id": "DDqIu5Hj7AH3"
      },
      "source": [
        "finaldf['cluster'] = model.predict(finaldf)"
      ],
      "execution_count": 53,
      "outputs": []
    },
    {
      "cell_type": "code",
      "metadata": {
        "colab": {
          "base_uri": "https://localhost:8080/"
        },
        "id": "94n8renc7AH4",
        "outputId": "1d099376-ffac-4eef-dfad-8e90eaa0db84"
      },
      "source": [
        "finaldf.loc[finaldf['Region'] == 5].corr()['cluster'].abs().sort_values(ascending = False)"
      ],
      "execution_count": 54,
      "outputs": [
        {
          "output_type": "execute_result",
          "data": {
            "text/plain": [
              "cluster            1.000000\n",
              "Reviews            0.823799\n",
              "Rating             0.343200\n",
              "Dine in option     0.284497\n",
              "Place type         0.182815\n",
              "Delivery option    0.167812\n",
              "Price              0.076595\n",
              "Region                  NaN\n",
              "Takeout option          NaN\n",
              "Name: cluster, dtype: float64"
            ]
          },
          "metadata": {},
          "execution_count": 54
        }
      ]
    },
    {
      "cell_type": "markdown",
      "metadata": {
        "id": "dynUW5mD7AH4"
      },
      "source": [
        "# Testing Hypothesis"
      ]
    },
    {
      "cell_type": "code",
      "metadata": {
        "id": "66hRPwiT7AH4"
      },
      "source": [
        "testdataframe = pd.DataFrame([[5,1,3,1500,1,0,1,0],[2,2,5,100,2,1,0,0],[4,3,1,500,2,1,1,1],[5,3,5,10000,4,1,0,1]],columns = df.columns)"
      ],
      "execution_count": 55,
      "outputs": []
    },
    {
      "cell_type": "code",
      "metadata": {
        "colab": {
          "base_uri": "https://localhost:8080/",
          "height": 172
        },
        "id": "ybfEcBmt7AH4",
        "outputId": "adc56020-1fda-4816-e97a-508a0843e23d"
      },
      "source": [
        "testdataframe"
      ],
      "execution_count": 56,
      "outputs": [
        {
          "output_type": "execute_result",
          "data": {
            "text/html": [
              "<div>\n",
              "<style scoped>\n",
              "    .dataframe tbody tr th:only-of-type {\n",
              "        vertical-align: middle;\n",
              "    }\n",
              "\n",
              "    .dataframe tbody tr th {\n",
              "        vertical-align: top;\n",
              "    }\n",
              "\n",
              "    .dataframe thead th {\n",
              "        text-align: right;\n",
              "    }\n",
              "</style>\n",
              "<table border=\"1\" class=\"dataframe\">\n",
              "  <thead>\n",
              "    <tr style=\"text-align: right;\">\n",
              "      <th></th>\n",
              "      <th>Region</th>\n",
              "      <th>Place type</th>\n",
              "      <th>Rating</th>\n",
              "      <th>Reviews</th>\n",
              "      <th>Price</th>\n",
              "      <th>Delivery option</th>\n",
              "      <th>Dine in option</th>\n",
              "      <th>Takeout option</th>\n",
              "    </tr>\n",
              "  </thead>\n",
              "  <tbody>\n",
              "    <tr>\n",
              "      <th>0</th>\n",
              "      <td>5</td>\n",
              "      <td>1</td>\n",
              "      <td>3</td>\n",
              "      <td>1500</td>\n",
              "      <td>1</td>\n",
              "      <td>0</td>\n",
              "      <td>1</td>\n",
              "      <td>0</td>\n",
              "    </tr>\n",
              "    <tr>\n",
              "      <th>1</th>\n",
              "      <td>2</td>\n",
              "      <td>2</td>\n",
              "      <td>5</td>\n",
              "      <td>100</td>\n",
              "      <td>2</td>\n",
              "      <td>1</td>\n",
              "      <td>0</td>\n",
              "      <td>0</td>\n",
              "    </tr>\n",
              "    <tr>\n",
              "      <th>2</th>\n",
              "      <td>4</td>\n",
              "      <td>3</td>\n",
              "      <td>1</td>\n",
              "      <td>500</td>\n",
              "      <td>2</td>\n",
              "      <td>1</td>\n",
              "      <td>1</td>\n",
              "      <td>1</td>\n",
              "    </tr>\n",
              "    <tr>\n",
              "      <th>3</th>\n",
              "      <td>5</td>\n",
              "      <td>3</td>\n",
              "      <td>5</td>\n",
              "      <td>10000</td>\n",
              "      <td>4</td>\n",
              "      <td>1</td>\n",
              "      <td>0</td>\n",
              "      <td>1</td>\n",
              "    </tr>\n",
              "  </tbody>\n",
              "</table>\n",
              "</div>"
            ],
            "text/plain": [
              "   Region  Place type  Rating  ...  Delivery option  Dine in option  Takeout option\n",
              "0       5           1       3  ...                0               1               0\n",
              "1       2           2       5  ...                1               0               0\n",
              "2       4           3       1  ...                1               1               1\n",
              "3       5           3       5  ...                1               0               1\n",
              "\n",
              "[4 rows x 8 columns]"
            ]
          },
          "metadata": {},
          "execution_count": 56
        }
      ]
    },
    {
      "cell_type": "code",
      "metadata": {
        "id": "rWmtKxLu7AH4"
      },
      "source": [
        "testdataframe['cluster'] = model.predict(testdataframe)"
      ],
      "execution_count": 57,
      "outputs": []
    },
    {
      "cell_type": "code",
      "metadata": {
        "colab": {
          "base_uri": "https://localhost:8080/",
          "height": 172
        },
        "id": "JX52axgT7AH4",
        "outputId": "78263cd5-9f4e-4664-89ae-56b2335e0b74"
      },
      "source": [
        "testdataframe"
      ],
      "execution_count": 58,
      "outputs": [
        {
          "output_type": "execute_result",
          "data": {
            "text/html": [
              "<div>\n",
              "<style scoped>\n",
              "    .dataframe tbody tr th:only-of-type {\n",
              "        vertical-align: middle;\n",
              "    }\n",
              "\n",
              "    .dataframe tbody tr th {\n",
              "        vertical-align: top;\n",
              "    }\n",
              "\n",
              "    .dataframe thead th {\n",
              "        text-align: right;\n",
              "    }\n",
              "</style>\n",
              "<table border=\"1\" class=\"dataframe\">\n",
              "  <thead>\n",
              "    <tr style=\"text-align: right;\">\n",
              "      <th></th>\n",
              "      <th>Region</th>\n",
              "      <th>Place type</th>\n",
              "      <th>Rating</th>\n",
              "      <th>Reviews</th>\n",
              "      <th>Price</th>\n",
              "      <th>Delivery option</th>\n",
              "      <th>Dine in option</th>\n",
              "      <th>Takeout option</th>\n",
              "      <th>cluster</th>\n",
              "    </tr>\n",
              "  </thead>\n",
              "  <tbody>\n",
              "    <tr>\n",
              "      <th>0</th>\n",
              "      <td>5</td>\n",
              "      <td>1</td>\n",
              "      <td>3</td>\n",
              "      <td>1500</td>\n",
              "      <td>1</td>\n",
              "      <td>0</td>\n",
              "      <td>1</td>\n",
              "      <td>0</td>\n",
              "      <td>1</td>\n",
              "    </tr>\n",
              "    <tr>\n",
              "      <th>1</th>\n",
              "      <td>2</td>\n",
              "      <td>2</td>\n",
              "      <td>5</td>\n",
              "      <td>100</td>\n",
              "      <td>2</td>\n",
              "      <td>1</td>\n",
              "      <td>0</td>\n",
              "      <td>0</td>\n",
              "      <td>0</td>\n",
              "    </tr>\n",
              "    <tr>\n",
              "      <th>2</th>\n",
              "      <td>4</td>\n",
              "      <td>3</td>\n",
              "      <td>1</td>\n",
              "      <td>500</td>\n",
              "      <td>2</td>\n",
              "      <td>1</td>\n",
              "      <td>1</td>\n",
              "      <td>1</td>\n",
              "      <td>2</td>\n",
              "    </tr>\n",
              "    <tr>\n",
              "      <th>3</th>\n",
              "      <td>5</td>\n",
              "      <td>3</td>\n",
              "      <td>5</td>\n",
              "      <td>10000</td>\n",
              "      <td>4</td>\n",
              "      <td>1</td>\n",
              "      <td>0</td>\n",
              "      <td>1</td>\n",
              "      <td>3</td>\n",
              "    </tr>\n",
              "  </tbody>\n",
              "</table>\n",
              "</div>"
            ],
            "text/plain": [
              "   Region  Place type  Rating  ...  Dine in option  Takeout option  cluster\n",
              "0       5           1       3  ...               1               0        1\n",
              "1       2           2       5  ...               0               0        0\n",
              "2       4           3       1  ...               1               1        2\n",
              "3       5           3       5  ...               0               1        3\n",
              "\n",
              "[4 rows x 9 columns]"
            ]
          },
          "metadata": {},
          "execution_count": 58
        }
      ]
    },
    {
      "cell_type": "markdown",
      "metadata": {
        "id": "CjUzAYrw7AH4"
      },
      "source": [
        "# Conclusion\n",
        "- In This New Market There are 4 Segmentations of Coffe Shops in Ukraine \n",
        "- The Key Features Are Reviews, Rating, Region, and Dining Option\n",
        "- The Most Common Segment is segment 0\n",
        "-  In LVIV, the segment is well distributed evenly , and in mariupol the cluster is imbalance, as what I said earlier that this statement is caused because number of reviews is highly contributed to distribution of the cluster the higher the review number its more likely for cluster to be distributed evenly."
      ]
    },
    {
      "cell_type": "markdown",
      "metadata": {
        "id": "7hk-NXPE7AH4"
      },
      "source": [
        "# Future Work\n",
        "- Reviews and Ratings is the most important Feature to determine segment, so to adjust the segment the coffee shop need to add more reviews and adjust the rating\n",
        "- To do that we can use promotions such as giving discounts, if the customer create add a review to our shops\n"
      ]
    },
    {
      "cell_type": "markdown",
      "metadata": {
        "id": "_F7-f7UU7AH4"
      },
      "source": [
        "# Thank You"
      ]
    }
  ]
}